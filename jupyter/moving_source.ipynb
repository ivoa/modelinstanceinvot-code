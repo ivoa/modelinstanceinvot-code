{
 "cells": [
  {
   "cell_type": "markdown",
   "id": "33a7a265",
   "metadata": {},
   "source": [
    "## Meas/Coords Validation\n",
    "\n",
    "This goal of this Notebook is to show that real data can be mapped on Measure classes and that the Measure object quantities can be retrieved by generice code.\n",
    "\n",
    "We proceed with data mapped on individual Measure objects in order to avoid bias possibly introduced by some host model.\n",
    "\n",
    "This workflow validates the [Measure](https://github.com/ivoa/modelinstanceinvot-code) model (and its coordinates(https://github.com/ivoa-std/CoordinateDM)) in the extand of the the implemented classes.\n",
    "\n",
    "### Test Case\n",
    "\n",
    "The VOtable has been queried from tme ESAC XMM TAP archive with the following query:\n",
    "```\n",
    "SELECT TOP 10 xsa.v_epic_source_cat.date_obs , xsa.v_epic_source_cat.\"dec\" , xsa.v_epic_source_cat.ep_hr1 , xsa.v_epic_source_cat.ep_hr1_err , xsa.v_epic_source_cat.ep_hr2 , xsa.v_epic_source_cat.ep_hr2_err , xsa.v_epic_source_cat.ep_hr3 , xsa.v_epic_source_cat.ep_hr3_err , xsa.v_epic_source_cat.ep_hr4 , xsa.v_epic_source_cat.ep_hr4_err , xsa.v_epic_source_cat.iauname , xsa.v_epic_source_cat.ra\n",
    " FROM  xsa.v_epic_source_cat\n",
    " WHERE ( xsa.v_epic_source_cat.iauname = '4XMM J174544.4-290024' )\n",
    "```\n",
    "\n",
    "We select the positions and the observation dates of the '4XMM J174544.4-290024' source as well as its hardness ratios. \n",
    "This source is located near the galactic center, so we can expect these parameters to vary along of the observations covering 20 years.\n",
    "\n",
    "- We are using the annotation [syntax](https://github.com/ivoa-std/ModelInstanceInVot) that has been designed after the 2021 workshop.\n",
    "- The Python code used for this notebook is being [developped](https://github.com/ivoa/modelinstanceinvot-code) to design qnd validate the processing of model annotation.\n"
   ]
  },
  {
   "cell_type": "markdown",
   "id": "44885d1c",
   "metadata": {},
   "source": [
    "### Package Init\n",
    "- Import packages\n",
    "- Set the data directory\n",
    "- Print to check"
   ]
  },
  {
   "cell_type": "code",
   "execution_count": 1,
   "id": "ec83cbae",
   "metadata": {},
   "outputs": [
    {
     "name": "stdout",
     "output_type": "stream",
     "text": [
      "/Users/laurentmichel/Documents/seafile/Seafile/workspaces/git/modelinstanceinvot-code/jupyter\n",
      "/Users/laurentmichel/Documents/seafile/Seafile/workspaces/git/modelinstanceinvot-code\n",
      "/Users/laurentmichel/Documents/seafile/Seafile/workspaces/git/modelinstanceinvot-code/mivot_code/examples/data/\n",
      "   INFO - [__init__.py:  7 -   <module>()] - utils package initialized\n",
      "   INFO - [__init__.py: 16 -   <module>()] - client package intialized\n",
      "   INFO - [__init__.py: 14 -   <module>()] - translator package intialized\n"
     ]
    }
   ],
   "source": [
    "import sys\n",
    "import unittest\n",
    "import os\n",
    "import logging\n",
    "import matplotlib\n",
    "import mplcursors\n",
    "import matplotlib.pyplot as plt \n",
    "import numpy as np\n",
    "from astropy.io.votable import parse\n",
    "\n",
    "base_dir = os.path.realpath(os.path.join(os.getcwd(), \"..\"))\n",
    "data_dir = os.path.join(base_dir, \"mivot_code\", \"examples\", \"data/\")\n",
    "\n",
    "print(os.getcwd())\n",
    "print(base_dir)\n",
    "print(data_dir)\n",
    "sys.path.append(os.path.realpath(base_dir))\n",
    "\n",
    "from mivot_code.client.xml_interpreter.model_viewer import ModelViewer\n"
   ]
  },
  {
   "cell_type": "markdown",
   "id": "f53d2a67",
   "metadata": {},
   "source": [
    "## VOTable parsing\n",
    "The VOTable is parsed by Astropy as usual"
   ]
  },
  {
   "cell_type": "code",
   "execution_count": 2,
   "id": "d8796618",
   "metadata": {},
   "outputs": [],
   "source": [
    "votable = parse(os.path.join(data_dir, \"xmm_move_hr.xml\"))"
   ]
  },
  {
   "cell_type": "markdown",
   "id": "429f1cfd",
   "metadata": {},
   "source": [
    "## Building the Model Viewer\n",
    "The model viewer wrapps the VOTable data iterator to provide model views of the current data raw\n",
    "The model viewer supports 3 serializations:\n",
    "- XML\n",
    "- JSON \n",
    "- STC components (used here)\n",
    "\n",
    "In the future, the resource selection should be handled by the either Astropy or PyVO, but meanwhile this is not implemented, the job is done by hand. \n",
    "We assume that the 1st resource is annotated."
   ]
  },
  {
   "cell_type": "code",
   "execution_count": 3,
   "id": "ed5f34ee",
   "metadata": {},
   "outputs": [
    {
     "name": "stdout",
     "output_type": "stream",
     "text": [
      "   INFO - [model_viewer.py:402 - _extract_mapping_block()] - extract vodml block from /Users/laurentmichel/Documents/seafile/Seafile/workspaces/git/modelinstanceinvot-code/mivot_code/examples/data/xmm_move_hr.xml\n",
      "   INFO - [annotation_seeker.py: 38 -   __init__()] - Found GLOBALS\n",
      "   INFO - [annotation_seeker.py: 46 -   __init__()] - Found TEMPLATES Results\n",
      "   INFO - [model_viewer.py:416 - _extract_mapping_block()] - VODML found\n"
     ]
    }
   ],
   "source": [
    "for resource in votable.resources:\n",
    "    mviewer = ModelViewer(resource, votable_path=os.path.join(data_dir, \"xmm_move_hr.xml\"))\n",
    "    break"
   ]
  },
  {
   "cell_type": "markdown",
   "id": "2630aa12",
   "metadata": {},
   "source": [
    "## Connecting the Data table we Want to Browse\n",
    "In this example we just have one table that is annotated. \n",
    "- We assume we will work on data of this table\n",
    "- We do not look for complex objects that could be located in some other tables or in the GLOBALS block "
   ]
  },
  {
   "cell_type": "code",
   "execution_count": 4,
   "id": "3495e19e",
   "metadata": {},
   "outputs": [
    {
     "name": "stdout",
     "output_type": "stream",
     "text": [
      "  DEBUG - [model_viewer.py:203 - connect_table()] - table Results found in VOTable\n",
      "  DEBUG - [model_viewer.py:208 - connect_table()] - TEMPLATES Results found \n"
     ]
    }
   ],
   "source": [
    "mviewer.connect_table('Results')\n"
   ]
  },
  {
   "cell_type": "markdown",
   "id": "ae3fcfd4",
   "metadata": {},
   "source": [
    "## Using Data Model Views\n",
    "The model viewer iterate over the data row by using the Astropy parser. The last read row is stored internally to get available to be processed by the viewer.\n",
    "\n",
    "In the current the example, we know that each data rows contains one position, one time stamp and 4 hardness ratios. The viewer provides tools to discover these quantities, but  this is not the purpose of the exercise. \n",
    "\n",
    "For each row, we extract Measures instances of those quantities and we store them in Python lists ready to be displayed by matplotlib.\n",
    "\n",
    "The point here is that the code just processes data annotations. It has no feature specific for that VOTable."
   ]
  },
  {
   "cell_type": "code",
   "execution_count": 5,
   "id": "f5e76b6e",
   "metadata": {},
   "outputs": [],
   "source": [
    "times = []\n",
    "ras = []\n",
    "decs = []\n",
    "mviewer.rewind()\n",
    "while True:\n",
    "    row = mviewer.get_next_row() \n",
    "    if row is None:\n",
    "        break  \n",
    "            \n",
    "    position = mviewer.get_stc_positions()[0]\n",
    "    ras.append(position.coord.lon.value)    \n",
    "    decs.append(position.coord.lat.value)   \n",
    "            \n",
    "    hr = mviewer.get_stc_generic_measures()\n",
    "\n",
    "    times.append(f\"Obs time: {mviewer.get_stc_times()[0].coord.datetime}\"\\\n",
    "                f\"\\nra:{position.coord.lon.value}\"\\\n",
    "                f\"\\ndec: {position.coord.lat.value}\"\n",
    "                f\"\\nhr1: {hr[0].coord.cval} +/- {hr[0].error.radius}\"\\\n",
    "                f\"\\nhr2: {hr[1].coord.cval} +/- {hr[1].error.radius}\"\\\n",
    "                f\"\\nhr3: {hr[2].coord.cval} +/- {hr[2].error.radius}\"\\\n",
    "                f\"\\nhr4: {hr[3].coord.cval} +/- {hr[3].error.radius}\"\n",
    "                ) "
   ]
  },
  {
   "cell_type": "markdown",
   "id": "0de60086",
   "metadata": {},
   "source": [
    "## Data Normalization\n",
    "\n",
    "The data contains 10 position of one XMM source taken over 20 year. To make the plot more readable, we transform the positions as deltas from the mean value."
   ]
  },
  {
   "cell_type": "code",
   "execution_count": 6,
   "id": "22400a73",
   "metadata": {},
   "outputs": [],
   "source": [
    "ram = 0.0\n",
    "for ra in ras:\n",
    "    ram += ra\n",
    "ram /= len(ras)\n",
    "decm = 0.0\n",
    "for dec in decs:\n",
    "    decm += dec\n",
    "decm /= len(decs)\n",
    "for i in range(len(ras)):\n",
    "    ras[i] = 3600*(ras[i] - ram)\n",
    "    decs[i] = 3600*(decs[i] - decm)\n"
   ]
  },
  {
   "cell_type": "markdown",
   "id": "55ff715e",
   "metadata": {},
   "source": [
    "## Matplotlib setup\n",
    "\n",
    "Since we have a 7 dimensions dataset (position, time and 4 HRs), we use tooltips to represent it in a convinient way.\n",
    "Matplotlib must be setup accordingly"
   ]
  },
  {
   "cell_type": "code",
   "execution_count": 7,
   "id": "0178deed",
   "metadata": {},
   "outputs": [
    {
     "name": "stdout",
     "output_type": "stream",
     "text": [
      "  DEBUG - [pyplot.py:280 - switch_backend()] - Loaded backend module://ipympl.backend_nbagg version unknown.\n"
     ]
    }
   ],
   "source": [
    "%matplotlib widget"
   ]
  },
  {
   "cell_type": "markdown",
   "id": "4ca378c6",
   "metadata": {},
   "source": [
    "## Lets plot"
   ]
  },
  {
   "cell_type": "code",
   "execution_count": 8,
   "id": "a7aa893c",
   "metadata": {},
   "outputs": [
    {
     "data": {
      "application/vnd.jupyter.widget-view+json": {
       "model_id": "c98121360bee4fde9dcb2abdea259fe3",
       "version_major": 2,
       "version_minor": 0
      },
      "image/png": "[encoded data removed]",
      "text/html": [
       "\n",
       "            <div style=\"display: inline-block;\">\n",
       "                <div class=\"jupyter-widgets widget-label\" style=\"text-align: center;\">\n",
       "                    Figure\n",
       "                </div>\n",
       "                <img src='data:image/png;base64,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' width=640.0/>\n",
       "            </div>\n",
       "        "
      ],
      "text/plain": [
       "Canvas(toolbar=Toolbar(toolitems=[('Home', 'Reset original view', 'home', 'home'), ('Back', 'Back to previous …"
      ]
     },
     "metadata": {},
     "output_type": "display_data"
    }
   ],
   "source": [
    "matplotlib.font_manager: logging.getLogger('matplotlib.font_manager').setLevel(logging.WARNING)\n",
    "plt.scatter(ras, decs)\n",
    "plt.title(\"4XMM J174544.4-290024 over 20 years\")\n",
    "plt.xlabel(\"delta RA arcsec\")\n",
    "plt.ylabel(\"delta DEC arcsec\")\n",
    "mplcursors.cursor(hover=True).connect(\"add\", lambda sel: sel.annotation.set_text(times[sel.index]))\n",
    "        \n",
    "plt.show()"
   ]
  },
  {
   "cell_type": "code",
   "execution_count": null,
   "id": "608c8855",
   "metadata": {},
   "outputs": [],
   "source": []
  }
 ],
 "metadata": {
  "kernelspec": {
   "display_name": "Python 3 (ipykernel)",
   "language": "python",
   "name": "python3"
  },
  "language_info": {
   "codemirror_mode": {
    "name": "ipython",
    "version": 3
   },
   "file_extension": ".py",
   "mimetype": "text/x-python",
   "name": "python",
   "nbconvert_exporter": "python",
   "pygments_lexer": "ipython3",
   "version": "3.8.13"
  }
 },
 "nbformat": 4,
 "nbformat_minor": 5
}
