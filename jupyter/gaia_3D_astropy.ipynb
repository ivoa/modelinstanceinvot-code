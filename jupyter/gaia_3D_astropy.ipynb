{
 "cells": [
  {
   "cell_type": "markdown",
   "id": "33a7a265",
   "metadata": {},
   "source": [
    "## Meas/Coords Validation with Astropy\n",
    "\n",
    "This goal of this Notebook is to show that real data mapped on `Measure` classes can be transformed in Astropy instances in a transparent way.\n",
    "\n",
    "We proceed with data mapped on individual `Measure` objects in order to avoid bias possibly introduced by some host model.\n",
    "\n",
    "This workflow validates the [Measure](https://github.com/ivoa/modelinstanceinvot-code) model (and its coordinates(https://github.com/ivoa-std/CoordinateDM)) in the extand of the the implemented classes.\n",
    "\n",
    "\n",
    "### Test Case\n",
    "\n",
    "The VOtable has been queried from tme ESAC archive (https://gea.esac.esa.int/tap-server/tap) with the following query:\n",
    "```\n",
    "SELECT TOP 100 gaiadr2.gaia_source.designation, gaiadr2.gaia_source.ra, gaiadr2.gaia_source.ra_error ,\n",
    "               gaiadr2.gaia_source.\"dec\", gaiadr2.gaia_source.dec_error, gaiadr2.gaia_source.parallax , \n",
    "               gaiadr2.gaia_source.parallax_error, gaiadr2.gaia_source.pmra, \n",
    "               gaiadr2.gaia_source.pmra_error, gaiadr2.gaia_source.pmdec, \n",
    "               gaiadr2.gaia_source.pmdec_error,gaiadr2.gaia_source.radial_velocity, \n",
    "               gaiadr2.gaia_source.radial_velocity_error\n",
    " FROM  gaiadr2.gaia_source\n",
    " WHERE ( CONTAINS(POINT('ICRS', ra, \"dec\"), \n",
    "         CIRCLE('ICRS', 162.328814, -53.319466, 0.016666666666666666)) = 1 )\n",
    "```\n",
    "\n",
    "We select positions, parallax, radial velocity and proper motions around `luhman 16`. \n",
    "\n",
    "The goal of the script is to show how we can build complex Astropy SkyCoord object in a transparent way by using the `Meas/Coords` mapping. \n",
    "The parallax is given to Astropy to build the 3rd coordinate dimension. \n",
    "There no data checking, for each row, all mapped STC components are built and given to the SkyCoord builder which does its best.\n",
    "    \n",
    "- We are using the annotation [syntax](https://github.com/ivoa-std/ModelInstanceInVot) that has been designed after the 2021 workshop.\n",
    "- The Python code used for this notebook is being [developped](https://github.com/ivoa/modelinstanceinvot-code) to design qnd validate the processing of model annotation.\n",
    "- This notebook does not pretend to have any scientific value, it is juste a validation case for the mapping syntax \n"
   ]
  },
  {
   "cell_type": "markdown",
   "id": "44885d1c",
   "metadata": {},
   "source": [
    "### Package Init\n",
    "- Import packages"
   ]
  },
  {
   "cell_type": "code",
   "execution_count": null,
   "id": "ec83cbae",
   "metadata": {},
   "outputs": [],
   "source": [
    "import sys\n",
    "import os\n",
    "import logging\n",
    "import matplotlib\n",
    "import mplcursors\n",
    "import matplotlib.pyplot as plt \n",
    "import numpy as np\n",
    "from astropy.io.votable import parse\n",
    "from astropy.visualization import astropy_mpl_style"
   ]
  },
  {
   "cell_type": "markdown",
   "id": "82e1ee2e",
   "metadata": {},
   "source": [
    "## Init Path\n",
    "- lock the base dir against multiple runs\n",
    "- Set PYTHONPATH\n",
    "- Import local packages"
   ]
  },
  {
   "cell_type": "code",
   "execution_count": null,
   "id": "4c68d9d7",
   "metadata": {},
   "outputs": [],
   "source": [
    "try:\n",
    "    base_dir\n",
    "except NameError: \n",
    "    base_dir = os.getcwd()\n",
    "print(base_dir)\n",
    "sys.path.append(os.path.join(base_dir, \"python\") )\n",
    "\n",
    "from client.xml_interpreter.model_viewer import ModelViewer\n",
    "from utils.quantity_converter import QuantityConverter\n",
    "\n",
    "plt.style.use(astropy_mpl_style)\n",
    "matplotlib.font_manager: logging.getLogger('matplotlib.font_manager').setLevel(logging.WARNING)\n",
    "\n",
    "data_path = os.path.join(base_dir, \"python\", \"examples\", \"data/\")\n",
    "print(data_path)"
   ]
  },
  {
   "cell_type": "markdown",
   "id": "f53d2a67",
   "metadata": {},
   "source": [
    "## VOTable parsing\n",
    "The VOTable is parsed by Astropy as usual"
   ]
  },
  {
   "cell_type": "code",
   "execution_count": null,
   "id": "d8796618",
   "metadata": {},
   "outputs": [],
   "source": [
    "votable = parse(os.path.join(data_path, \"gaia_luhman16_astropy.xml\"))"
   ]
  },
  {
   "cell_type": "markdown",
   "id": "429f1cfd",
   "metadata": {},
   "source": [
    "## Building the Model Viewer\n",
    "The model viewer wrapps the VOTable data iterator to provide model views of the current data raw\n",
    "The model viewer supports 4 serializations:\n",
    "- XML (hidden used)\n",
    "- JSON \n",
    "- STC components (hidden used)\n",
    "- Astropy SkyCoord (used here)\n",
    "\n",
    "In the future, the resource selection should be handled by the either Astropy or PyVO, but meanwhile this is not implemented, the job is done by hand. \n",
    "We assume that the 1st resource is annotated.\n",
    "\n",
    "\n",
    "- We assume we will work on data of the `Results` table\n",
    "- We do not look for complex objects that could be located in some other tables or in the GLOBALS block\n"
   ]
  },
  {
   "cell_type": "code",
   "execution_count": null,
   "id": "ed5f34ee",
   "metadata": {},
   "outputs": [],
   "source": [
    "for resource in votable.resources:\n",
    "    mviewer = ModelViewer(resource, votable_path=os.path.join(data_path, \"gaia_luhman16_astropy.xml\"))\n",
    "    mviewer.connect_table('Results')\n",
    "    break;"
   ]
  },
  {
   "cell_type": "markdown",
   "id": "ae3fcfd4",
   "metadata": {},
   "source": [
    "## Using Data Model Views\n",
    "The model viewer iterate over the data row by using the Astropy parser. The last read row is stored internally to be available for the viewer processing.\n",
    "\n",
    "In the current the example, we let the astropy wrapper building a SkyCoord instance with the mapped data.\n",
    "if the instanciation process fails due to a mapping error, a None insatnce is returned\n",
    "Parallax are transformed as distances by Astropy to build 3D sky positions and proper motions are given by tooltips.\n"
   ]
  },
  {
   "cell_type": "code",
   "execution_count": null,
   "id": "f5e76b6e",
   "metadata": {},
   "outputs": [],
   "source": [
    "# init data to be plotted\n",
    "tooltips = []\n",
    "ras = []\n",
    "decs = []\n",
    "dist = []\n",
    "# Necessary to execute the cell several times\n",
    "mviewer.rewind()\n",
    "\n",
    "while True:\n",
    "    # get a data row (numpy)\n",
    "    row = mviewer.get_next_row() \n",
    "    if row is None:\n",
    "        break  \n",
    "    # get the astropy SkyCoord object for that row\n",
    "    position = mviewer.get_astropy_sky_coord() \n",
    "    # Should never happend\n",
    "    if position is None:\n",
    "        continue\n",
    "    # stores the parameters to be plotted  \n",
    "    # Ignore not set-distances and limit the distance range for the plot readability      \n",
    "    if not np.isnan(position.distance.value) and position.distance.value < 5000.0:\n",
    "        ras.append(position.ra.value)    \n",
    "        decs.append(position.dec.value)   \n",
    "        dist.append(position.distance.value)   \n",
    "        tooltips.append(f\"Proper Motion ra:{position.pm_ra_cosdec:.2f} \\ndec:{position.pm_dec:.2f} \")"
   ]
  },
  {
   "cell_type": "markdown",
   "id": "55ff715e",
   "metadata": {},
   "source": [
    "## Matplotlib setup\n",
    "\n",
    "Activate dynamic plots to make the tooltips working."
   ]
  },
  {
   "cell_type": "code",
   "execution_count": null,
   "id": "0178deed",
   "metadata": {},
   "outputs": [],
   "source": [
    "%matplotlib widget"
   ]
  },
  {
   "cell_type": "markdown",
   "id": "4ca378c6",
   "metadata": {},
   "source": [
    "## Lets plot"
   ]
  },
  {
   "cell_type": "code",
   "execution_count": null,
   "id": "a7aa893c",
   "metadata": {},
   "outputs": [],
   "source": [
    "fig = plt.figure()\n",
    "ax = fig.add_subplot(111, projection='3d')\n",
    "ax.scatter(ras, decs, dist)\n",
    "ax.set_xlabel('RA')\n",
    "ax.set_ylabel('DEC')\n",
    "ax.set_zlabel('Dist (parsec)')\n",
    "mplcursors.cursor(hover=True).connect(\"add\", lambda sel: sel.annotation.set_text(tooltips[sel.index]))\n",
    "plt.show()"
   ]
  },
  {
   "cell_type": "code",
   "execution_count": null,
   "id": "608c8855",
   "metadata": {},
   "outputs": [],
   "source": []
  }
 ],
 "metadata": {
  "kernelspec": {
   "display_name": "Python 3 (ipykernel)",
   "language": "python",
   "name": "python3"
  },
  "language_info": {
   "codemirror_mode": {
    "name": "ipython",
    "version": 3
   },
   "file_extension": ".py",
   "mimetype": "text/x-python",
   "name": "python",
   "nbconvert_exporter": "python",
   "pygments_lexer": "ipython3",
   "version": "3.8.8"
  }
 },
 "nbformat": 4,
 "nbformat_minor": 5
}
