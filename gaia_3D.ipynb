{
 "cells": [
  {
   "cell_type": "markdown",
   "id": "33a7a265",
   "metadata": {},
   "source": [
    "## Meas/Coords Validation\n",
    "\n",
    "This goal of this Notebook is to show that real data can be mapped on Measure classes and that the Measure object quantities can be retrieved by generice code.\n",
    "\n",
    "We proceed with data mapped on individual Measure objects in order to avoid bias possibly introduced by some host model.\n",
    "\n",
    "This workflow validates the [Measure](https://github.com/ivoa/modelinstanceinvot-code) model (and its coordinates(https://github.com/ivoa-std/CoordinateDM)) in the extand of the the implemented classes.\n",
    "\n",
    "\n",
    "### Test Case\n",
    "\n",
    "The VOtable has been queried from tme ESAC archive (https://gea.esac.esa.int/tap-server/tap) with the following query:\n",
    "```\n",
    "SELECT TOP 100 gaiadr2.gaia_source.designation , gaiadr2.gaia_source.ra , gaiadr2.gaia_source.ra_error , gaiadr2.gaia_source.\"dec\" , gaiadr2.gaia_source.dec_error , gaiadr2.gaia_source.parallax , gaiadr2.gaia_source.parallax_error , gaiadr2.gaia_source.pmra , gaiadr2.gaia_source.pmra_error , gaiadr2.gaia_source.pmdec , gaiadr2.gaia_source.pmdec_error\n",
    " FROM  gaiadr2.gaia_source\n",
    " WHERE ( CONTAINS(POINT('ICRS', ra, \"dec\"), CIRCLE('ICRS', 162.328814, -53.319466, 0.016666666666666666)) = 1 )\n",
    "```\n",
    "\n",
    "We select positions, parallax and proper motions around `luhman 16`. \n",
    "\n",
    "The test goal is to validate the 3D position. To get that third dimension, we map the Gaia parallax on `Position.dist`. This way to proceed requires to client ot be able to detect this pattern and to transform the parallax into a distance.\n",
    "\n",
    "There is currently no standard method to handle this sort of implicit transformation. We are doing it here just because we know it is part the test.\n",
    "\n",
    "This opens the issue of defining a client behaviour when the <FIELD> unit does not match the <dm-mapping:ATTRIBUTE> unit.\n",
    "\n",
    "    \n",
    "- We are using the annotation [syntax](https://github.com/ivoa-std/ModelInstanceInVot) that has been designed after the 2021 workshop.\n",
    "- The Python code used for this notebook is being [developped](https://github.com/ivoa/modelinstanceinvot-code) to design qnd validate the processing of model annotation.\n",
    "- This notebook does not pretend to have any scientific value, it is juste a validation case for the mapping syntax \n"
   ]
  },
  {
   "cell_type": "markdown",
   "id": "44885d1c",
   "metadata": {},
   "source": [
    "### Package Init\n",
    "- Import packages\n",
    "- Set the data directory\n",
    "- Print to check"
   ]
  },
  {
   "cell_type": "code",
   "execution_count": 1,
   "id": "ec83cbae",
   "metadata": {},
   "outputs": [
    {
     "name": "stdout",
     "output_type": "stream",
     "text": [
      "   INFO - [__init__.py:  7 -   <module>()] - utils package initialized\n",
      "   INFO - [__init__.py: 15 -   <module>()] - client package intialized\n",
      "   INFO - [__init__.py: 14 -   <module>()] - translator package intialized\n",
      "['/Users/laurentmichel/Documents/seafile/Seafile/workspaces/git/modelinstanceinvot-code', '/opt/miniconda3/envs/svom/lib/python38.zip', '/opt/miniconda3/envs/svom/lib/python3.8', '/opt/miniconda3/envs/svom/lib/python3.8/lib-dynload', '', '/opt/miniconda3/envs/svom/lib/python3.8/site-packages', '/Users/laurentmichel/Documents/seafile/Seafile/workspaces/git/modelinstanceinvot-code/python']\n",
      "/Users/laurentmichel/Documents/seafile/Seafile/workspaces/git/modelinstanceinvot-code\n",
      "/Users/laurentmichel/Documents/seafile/Seafile/workspaces/git/modelinstanceinvot-code/python/examples/data\n"
     ]
    }
   ],
   "source": [
    "import sys\n",
    "import os\n",
    "import logging\n",
    "import matplotlib\n",
    "import mplcursors\n",
    "import matplotlib.pyplot as plt \n",
    "import numpy as np\n",
    "from astropy.io.votable import parse\n",
    "\n",
    "base_dir = os.getcwd()\n",
    "sys.path.append(os.path.join(base_dir, \"python\") )\n",
    "data_dir = os.path.join(base_dir, \"python\", \"examples\", \"data\") \n",
    "\n",
    "from client.xml_interpreter.model_viewer import ModelViewer\n",
    "from utils.quantity_converter import QuantityConverter\n",
    "\n",
    "\n",
    "print(sys.path)\n",
    "print(base_dir)\n",
    "print(data_dir)\n"
   ]
  },
  {
   "cell_type": "markdown",
   "id": "f53d2a67",
   "metadata": {},
   "source": [
    "## VOTable parsing\n",
    "The VOTable is parsed by Astropy as usual"
   ]
  },
  {
   "cell_type": "code",
   "execution_count": 2,
   "id": "d8796618",
   "metadata": {},
   "outputs": [],
   "source": [
    "votable = parse(os.path.join(data_dir, \"gaia_luhman16.xml\"))"
   ]
  },
  {
   "cell_type": "markdown",
   "id": "429f1cfd",
   "metadata": {},
   "source": [
    "## Building the Model Viewer\n",
    "The model viewer wrapps the VOTable data iterator to provide model views of the current data raw\n",
    "The model viewer supports 3 serializations:\n",
    "- XML\n",
    "- JSON \n",
    "- STC components (used here)\n",
    "\n",
    "In the future, the resource selection should be handled by the either Astropy or PyVO, but meanwhile this is not implemented, the job is done by hand. \n",
    "We assume that the 1st resource is annotated."
   ]
  },
  {
   "cell_type": "code",
   "execution_count": null,
   "id": "ed5f34ee",
   "metadata": {},
   "outputs": [],
   "source": [
    "for resource in votable.resources:\n",
    "    mviewer = ModelViewer(resource, votable_path=os.path.join(data_dir, \"gaia_luhman16.xml\"))\n",
    "    break"
   ]
  },
  {
   "cell_type": "markdown",
   "id": "2630aa12",
   "metadata": {},
   "source": [
    "## Connecting the Data table we Want to Browse\n",
    "In this example we just have one table that is annotated. \n",
    "- We assume we will work on data of this table\n",
    "- We do not look for complex objects that could be located in some other tables or in the GLOBALS block "
   ]
  },
  {
   "cell_type": "code",
   "execution_count": null,
   "id": "3495e19e",
   "metadata": {},
   "outputs": [],
   "source": [
    "mviewer.connect_table('Results')\n"
   ]
  },
  {
   "cell_type": "markdown",
   "id": "ae3fcfd4",
   "metadata": {},
   "source": [
    "## Using Data Model Views\n",
    "The model viewer iterate over the data row by using the Astropy parser. The last read row is stored internally to get available to be processed by the viewer.\n",
    "\n",
    "In the current the example, we know that each data rows contains one 3D position and one proper motion.\n",
    "The viewer provides tools to discover these quantities, but this is not the purpose of the exercise. \n",
    "\n",
    "For each row, we extract Measures instances of those quantities and we store them in Python lists ready to be displayed by matplotlib.\n",
    "The parallax are transformed as distances and the proper motion is given with tooltips.\n"
   ]
  },
  {
   "cell_type": "code",
   "execution_count": null,
   "id": "f5e76b6e",
   "metadata": {},
   "outputs": [],
   "source": [
    "times = []\n",
    "ras = []\n",
    "decs = []\n",
    "dist = []       \n",
    "must_convert = False\n",
    "first_row = True\n",
    "while True:\n",
    "    row = mviewer.get_next_row() \n",
    "    if row is None:\n",
    "        break  \n",
    "            \n",
    "    position = mviewer.get_stc_positions()[0]\n",
    "\n",
    "    if first_row is True:\n",
    "        first_row = False\n",
    "        if position.coord.dist.unit == \"parsec\":\n",
    "            must_convert = True\n",
    "                    \n",
    "    if must_convert is True:       \n",
    "        position.coord.dist.value = QuantityConverter.parallax_to_distance(position.coord.dist.value)\n",
    "        position.error.plus[2].value = QuantityConverter.parallax_to_distance(position.error.plus[2].value)\n",
    "        position.error.minus[2].value = QuantityConverter.parallax_to_distance(position.error.minus[2].value)\n",
    "            \n",
    "    if not np.isnan(position.coord.dist.value) and position.coord.dist.value < 5000.0:\n",
    "        ras.append(position.coord.lon.value)    \n",
    "        decs.append(position.coord.lat.value)   \n",
    "        dist.append(position.coord.dist.value)   \n",
    "        pm = mviewer.get_stc_measures_by_ucd(\"pos.pm\")[0]\n",
    "        times.append(f\"Proper Motion ({pm.coord.lon.unit}):\\nra:{pm.coord.lon.value:.2f} \\ndec:{pm.coord.lat.value:.2f}\")\n"
   ]
  },
  {
   "cell_type": "markdown",
   "id": "55ff715e",
   "metadata": {},
   "source": [
    "## Matplotlib setup\n",
    "\n",
    "Activate dynamic plots to make the tooltips working."
   ]
  },
  {
   "cell_type": "code",
   "execution_count": null,
   "id": "0178deed",
   "metadata": {},
   "outputs": [],
   "source": [
    "%matplotlib widget"
   ]
  },
  {
   "cell_type": "markdown",
   "id": "4ca378c6",
   "metadata": {},
   "source": [
    "## Lets plot"
   ]
  },
  {
   "cell_type": "code",
   "execution_count": null,
   "id": "a7aa893c",
   "metadata": {},
   "outputs": [],
   "source": [
    "matplotlib.font_manager: logging.getLogger('matplotlib.font_manager').setLevel(logging.WARNING)\n",
    "fig = plt.figure()\n",
    "ax = fig.add_subplot(111, projection='3d')\n",
    "ax.scatter(ras, decs, dist)\n",
    "ax.set_xlabel('RA')\n",
    "ax.set_ylabel('DEC')\n",
    "ax.set_zlabel('Dist (parsec)')\n",
    "mplcursors.cursor(hover=True).connect(\"add\", lambda sel: sel.annotation.set_text(times[sel.index]))\n",
    "plt.show()"
   ]
  },
  {
   "cell_type": "code",
   "execution_count": null,
   "id": "608c8855",
   "metadata": {},
   "outputs": [],
   "source": []
  }
 ],
 "metadata": {
  "kernelspec": {
   "display_name": "Python 3 (ipykernel)",
   "language": "python",
   "name": "python3"
  },
  "language_info": {
   "codemirror_mode": {
    "name": "ipython",
    "version": 3
   },
   "file_extension": ".py",
   "mimetype": "text/x-python",
   "name": "python",
   "nbconvert_exporter": "python",
   "pygments_lexer": "ipython3",
   "version": "3.8.8"
  }
 },
 "nbformat": 4,
 "nbformat_minor": 5
}
