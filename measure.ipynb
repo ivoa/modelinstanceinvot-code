{
 "cells": [
  {
   "cell_type": "code",
   "execution_count": 1,
   "id": "ec83cbae",
   "metadata": {},
   "outputs": [
    {
     "name": "stdout",
     "output_type": "stream",
     "text": [
      "   INFO - [__init__.py:  7 -   <module>()] - utils package initialized\n",
      "   INFO - [__init__.py: 15 -   <module>()] - client package intialized\n",
      "   INFO - [__init__.py: 14 -   <module>()] - translator package intialized\n",
      "   INFO - [__init__.py: 14 -   <module>()] - translator package intialized\n",
      "['/Users/laurentmichel/Documents/seafile/Seafile/workspaces/git/modelinstanceinvot-code', '/opt/miniconda3/envs/svom/lib/python38.zip', '/opt/miniconda3/envs/svom/lib/python3.8', '/opt/miniconda3/envs/svom/lib/python3.8/lib-dynload', '', '/opt/miniconda3/envs/svom/lib/python3.8/site-packages', '/Users/laurentmichel/Documents/seafile/Seafile/workspaces/git/modelinstanceinvot-code/python']\n",
      "/Users/laurentmichel/Documents/seafile/Seafile/workspaces/git/modelinstanceinvot-code\n",
      "/Users/laurentmichel/Documents/seafile/Seafile/workspaces/git/modelinstanceinvot-code/python/tests/data/annotated_data\n"
     ]
    }
   ],
   "source": [
    "import os, sys\n",
    "import xmltodict\n",
    "import lxml\n",
    "from astropy.io.votable import parse\n",
    "\n",
    "base_dir = os.getcwd()\n",
    "sys.path.append(os.path.join(base_dir, \"python\") )\n",
    "data_dir = os.path.join(base_dir, \"python\", \"tests\", \"data\", \"annotated_data\") \n",
    "\n",
    "from utils.xml_utils import XmlUtils\n",
    "from utils.dict_utils import DictUtils\n",
    "from client.xml_interpreter.model_viewer import ModelViewer\n",
    "\n",
    "print(sys.path)\n",
    "print(base_dir)\n",
    "print(data_dir)\n"
   ]
  },
  {
   "cell_type": "code",
   "execution_count": 3,
   "id": "d8796618",
   "metadata": {},
   "outputs": [],
   "source": [
    "votable = parse(os.path.join(data_dir, \"vizier_csc2_gal.annot.xml\"))"
   ]
  },
  {
   "cell_type": "code",
   "execution_count": 5,
   "id": "ed5f34ee",
   "metadata": {},
   "outputs": [
    {
     "name": "stdout",
     "output_type": "stream",
     "text": [
      "   INFO - [model_viewer.py:267 - _extract_mapping_block()] - extract vodml block from /Users/laurentmichel/Documents/seafile/Seafile/workspaces/git/modelinstanceinvot-code/python/tests/data/annotated_data/vizier_csc2_gal.annot.xml\n",
      "   INFO - [annotation_seeker.py: 46 -   __init__()] - Found GLOBALS\n",
      "   INFO - [annotation_seeker.py: 54 -   __init__()] - Found TEMPLATES Results\n",
      "   INFO - [model_viewer.py:279 - _extract_mapping_block()] - VODML found\n"
     ]
    }
   ],
   "source": [
    "for resource in votable.resources:\n",
    "    mviewer = ModelViewer(resource, votable_path=os.path.join(data_dir, \"vizier_csc2_gal.annot.xml\"))\n",
    "    break"
   ]
  },
  {
   "cell_type": "code",
   "execution_count": 7,
   "id": "d389e137",
   "metadata": {},
   "outputs": [
    {
     "name": "stdout",
     "output_type": "stream",
     "text": [
      "  DEBUG - [model_viewer.py:151 - connect_table()] - table Results found in VOTable\n",
      "  DEBUG - [model_viewer.py:156 - connect_table()] - TEMPLATES Results found \n"
     ]
    }
   ],
   "source": [
    "mviewer.connect_table('Results')\n"
   ]
  },
  {
   "cell_type": "code",
   "execution_count": 8,
   "id": "de917483",
   "metadata": {},
   "outputs": [
    {
     "name": "stdout",
     "output_type": "stream",
     "text": [
      "   _RAJ2000      _DEJ2000        _2CXO          RAICRS      DEICRS     r0     r1       PA         GLON         GLAT      fe  fc  fp  fv fst  fs  fa  fi  fr  fm  ff fVi  Ns         PFluxb                 PFluxh                 PFluxm                 PFluxs                 PFluxu           PFluxw           PF90b                  PF90h                  PF90m                  PF90s                  PF90u            PF90w           Fluxb                Fluxh                Fluxm                Fluxs                Fluxu          Fluxw          F90b                 F90h                 F90m                 F90s                 F90u           F90w          PFavgb                 PFavgh                 PFavgm                 PFavgs                 PFavgu           PFavgw          PF90avgb               PF90avgh               PF90avgm               PF90avgs               PF90avgu         PF90avgw         Favgb                Favgh                Favgm                Favgs                Favgu          Favgw        F90avgb              F90avgh              F90avgm              F90avgs              F90avgu        F90avgw      Ldet      LClass     S_N       NHGal      HRhm     HRhs     HRms   fdw Nac    ExpAC    Nhrc ExpHRC\n",
      "     deg           deg                           deg         deg     arcsec arcsec    deg         deg          deg                                                                cm2 ph / s             cm2 ph / s             cm2 ph / s             cm2 ph / s             cm2 ph / s       cm2 ph / s       cm2 ph / s             cm2 ph / s             cm2 ph / s             cm2 ph / s             cm2 ph / s       cm2 ph / s       mW / m2              mW / m2              mW / m2              mW / m2              mW / m2        mW / m2       mW / m2              mW / m2              mW / m2              mW / m2              mW / m2        mW / m2       cm2 ph / s             cm2 ph / s             cm2 ph / s             cm2 ph / s             cm2 ph / s       cm2 ph / s       cm2 ph / s             cm2 ph / s             cm2 ph / s             cm2 ph / s             cm2 ph / s       cm2 ph / s       mW / m2              mW / m2              mW / m2              mW / m2              mW / m2        mW / m2       mW / m2              mW / m2              mW / m2              mW / m2              mW / m2        mW / m2                                  1e+20 / cm2                                         s             s   \n",
      "------------- ------------- ---------------- ----------- ----------- ------ ------ ---------- ------------ ------------ --- --- --- --- --- --- --- --- --- --- --- --- --- ---------------------- ---------------------- ---------------------- ---------------------- ---------------------- ---------- ---------------------- ---------------------- ---------------------- ---------------------- ---------------------- ---------- -------------------- -------------------- -------------------- -------------------- -------------------- ------- -------------------- -------------------- -------------------- -------------------- -------------------- ------- ---------------------- ---------------------- ---------------------- ---------------------- ---------------------- ---------- ---------------------- ---------------------- ---------------------- ---------------------- ---------------------- ---------- -------------------- -------------------- -------------------- -------------------- -------------------- ------- -------------------- -------------------- -------------------- -------------------- -------------------- ------- ------------- -------- --------- ----------- -------- -------- -------- --- --- ----------- ---- ------\n",
      "253.923544021 -42.827158060 J165541.6-424937 253.9235440 -42.8271581 21.157 13.738       61.8      0.33436       342.86   0   0   0   0   0   0   0   0   0   0   0   0   1    2.9867983867816e-05                      0     7.284557809935e-06    1.8139357924978e-05    0.00019146901115315         --    2.9098529949806e-05                      0     6.339676663587e-06    1.6931831021988e-05    0.00026029550283061         --                    0                    0   2.145085288675e-14   4.452731936603e-14   1.878786275838e-13      --    7.52446142933e-14                    0   1.685270165582e-14   4.396136627712e-14   2.510321841046e-13      --    2.9867983867816e-05                      0     7.284557809935e-06    1.8139357924978e-05    0.00019146901115315         --    2.9098529949806e-05                      0     6.339676663587e-06    1.6931831021988e-05    0.00026029550283061         --                    0                    0   2.145085288675e-14   4.452731936603e-14   1.878786275838e-13      --    7.52446142933e-14                    0   1.685270165582e-14   4.396136627712e-14   2.510321841046e-13      --       12.4483 MARGINAL     2.324      175.85 -0.48470 -0.99938 -0.47720   0   1    2614.710    0     --\n"
     ]
    }
   ],
   "source": [
    "print(mviewer.get_next_row() )"
   ]
  },
  {
   "cell_type": "code",
   "execution_count": 10,
   "id": "83861cf7",
   "metadata": {},
   "outputs": [
    {
     "name": "stdout",
     "output_type": "stream",
     "text": [
      "<TEMPLATES tableref=\"Results\">\n",
      "\t\t\t\n",
      "\t\t\t\t<INSTANCE dmrole=\"\" dmtype=\"meas:Position\">\n",
      "\t\t\t\t\t<ATTRIBUTE dmrole=\"meas:Position.ucd\" dmtype=\"ivoa:string\" value=\"pos\"/>\n",
      "\t\t\t\t\t<INSTANCE dmrole=\"meas:Position.coord\" dmtype=\"coord:LonLatPoint\">\n",
      "\t\t\t\t\t\t<ATTRIBUTE dmrole=\"coord:LonLatPoint.lon\" dmtype=\"ivoa:real\" ref=\"RAICRS\" index=\"3\" value=\"253.923544\"/>\n",
      "\t\t\t\t\t\t<ATTRIBUTE dmrole=\"coord:LonLatPoint.lat\" dmtype=\"ivoa:real\" ref=\"DEICRS\" index=\"4\" value=\"-42.8271581\"/>\n",
      "\t\t\t\t\t\t<ATTRIBUTE dmrole=\"coord:LonLatPoint.dist\" dmtype=\"ivoa:real\" value=\"\"/>\n",
      "\t\t\t\t\t\t<REFERENCE_1 dmrole=\"coords:Coordinate.coordSys\" dmref=\"SpaceFrame_ICRS\"/>\n",
      "\t\t\t\t\t</INSTANCE>\n",
      "\t\t\t\t\t<INSTANCE dmrole=\"meas:Measure.error\" dmtype=\"meas:Ellipse\">\n",
      "\t\t\t\t\t\t<COLLECTION dmrole=\"meas:Ellipse.semiAxis\">\n",
      "\t\t\t\t\t\t\t<INSTANCE dmtype=\"ivoa:RealQuantity\">\n",
      "\t\t\t\t\t\t\t\t<ATTRIBUTE dmrole=\"ivoa:Quantity.val\" dmtype=\"ivoa:real\" ref=\"r0\" index=\"5\" value=\"21.157\"/>\n",
      "\t\t\t\t\t\t\t\t<ATTRIBUTE dmrole=\"ivoa:Quantity.unit\" dmtype=\"ivoa:Unit\" value=\"arcsec\"/>\n",
      "\t\t\t\t\t\t\t</INSTANCE>\n",
      "\t\t\t\t\t\t\t<INSTANCE dmtype=\"ivoa:RealQuantity\">\n",
      "\t\t\t\t\t\t\t\t<ATTRIBUTE dmrole=\"ivoa:Quantity.val\" dmtype=\"ivoa:real\" ref=\"r1\" index=\"6\" value=\"13.738\"/>\n",
      "\t\t\t\t\t\t\t\t<ATTRIBUTE dmrole=\"ivoa:Quantity.unit\" dmtype=\"ivoa:Unit\" value=\"arcsec\"/>\n",
      "\t\t\t\t\t\t\t</INSTANCE>\n",
      "\t\t\t\t\t\t</COLLECTION>\n",
      "\t\t\t\t\t\t<INSTANCE dmrole=\"meas:Ellipse.posAngle\" dmtype=\"ivoa:RealQuantity\">\n",
      "\t\t\t\t\t\t\t<ATTRIBUTE dmrole=\"ivoa:Quantity.val\" dmtype=\"ivoa:real\" ref=\"PA\" index=\"7\" value=\"61.84\"/>\n",
      "\t\t\t\t\t\t\t<ATTRIBUTE dmrole=\"ivoa:Quantity.unit\" dmtype=\"ivoa:Unit\" value=\"deg\"/>\n",
      "\t\t\t\t\t\t</INSTANCE>\n",
      "\t\t\t\t\t</INSTANCE>\n",
      "\t\t\t\t</INSTANCE>\n",
      "\t\t\t\t\n",
      "\t\t\t\t<INSTANCE dmrole=\"\" dmtype=\"meas:Position\">\n",
      "\t\t\t\t\t<ATTRIBUTE dmrole=\"meas:Position.ucd\" dmtype=\"ivoa:string\" value=\"pos\"/>\n",
      "\t\t\t\t\t<INSTANCE dmrole=\"meas:Position.coord\" dmtype=\"coord:LonLatPoint\">\n",
      "\t\t\t\t\t\t<ATTRIBUTE dmrole=\"coord:LonLatPoint.lon\" dmtype=\"ivoa:real\" ref=\"GLON\" index=\"8\" value=\"0.33436\"/>\n",
      "\t\t\t\t\t\t<ATTRIBUTE dmrole=\"coord:LonLatPoint.lat\" dmtype=\"ivoa:real\" ref=\"GLAT\" index=\"9\" value=\"342.863\"/>\n",
      "\t\t\t\t\t\t<ATTRIBUTE dmrole=\"coord:LonLatPoint.dist\" dmtype=\"ivoa:real\" value=\"\"/>\n",
      "\t\t\t\t\t\t<REFERENCE_2 dmrole=\"coords:Coordinate.coordSys\" dmref=\"SpaceFrame_Galactic\"/>\n",
      "\t\t\t\t\t</INSTANCE>\n",
      "\t\t\t\t\t<INSTANCE dmrole=\"meas:Measure.error\" dmtype=\"meas:Ellipse\">\n",
      "\t\t\t\t\t\t<COLLECTION dmrole=\"meas:Ellipse.semiAxis\">\n",
      "\t\t\t\t\t\t\t<INSTANCE dmtype=\"ivoa:RealQuantity\">\n",
      "\t\t\t\t\t\t\t\t<ATTRIBUTE dmrole=\"ivoa:Quantity.val\" dmtype=\"ivoa:real\" ref=\"r0\" index=\"5\" value=\"21.157\"/>\n",
      "\t\t\t\t\t\t\t\t<ATTRIBUTE dmrole=\"ivoa:Quantity.unit\" dmtype=\"ivoa:Unit\" value=\"arcsec\"/>\n",
      "\t\t\t\t\t\t\t</INSTANCE>\n",
      "\t\t\t\t\t\t\t<INSTANCE dmtype=\"ivoa:RealQuantity\">\n",
      "\t\t\t\t\t\t\t\t<ATTRIBUTE dmrole=\"ivoa:Quantity.val\" dmtype=\"ivoa:real\" ref=\"r1\" index=\"6\" value=\"13.738\"/>\n",
      "\t\t\t\t\t\t\t\t<ATTRIBUTE dmrole=\"ivoa:Quantity.unit\" dmtype=\"ivoa:Unit\" value=\"arcsec\"/>\n",
      "\t\t\t\t\t\t\t</INSTANCE>\n",
      "\t\t\t\t\t\t</COLLECTION>\n",
      "\t\t\t\t\t\t<INSTANCE dmrole=\"meas:Ellipse.posAngle \" dmtype=\"ivoa:RealQuantity\">\n",
      "\t\t\t\t\t\t\t<ATTRIBUTE dmrole=\"ivoa:Quantity.val\" dmtype=\"ivoa:real\" ref=\"PA\" index=\"7\" value=\"61.84\"/>\n",
      "\t\t\t\t\t\t\t<ATTRIBUTE dmrole=\"ivoa:Quantity.unit\" dmtype=\"ivoa:Unit\" value=\"deg\"/>\n",
      "\t\t\t\t\t\t</INSTANCE>\n",
      "\t\t\t\t\t</INSTANCE>\n",
      "\t\t\t\t</INSTANCE>\n",
      "\t\t\t</TEMPLATES>\n",
      "\t\t\n",
      "\n"
     ]
    }
   ],
   "source": [
    "XmlUtils.pretty_print(mviewer.get_model_view(resolve_ref=False))\n"
   ]
  },
  {
   "cell_type": "code",
   "execution_count": 11,
   "id": "cab58d01",
   "metadata": {},
   "outputs": [
    {
     "name": "stdout",
     "output_type": "stream",
     "text": [
      "  DEBUG - [model_viewer.py:228 - get_json_model_view()] - build json view\n",
      "[\n",
      "  [\n",
      "    {\n",
      "      \"@dmrole\": \"\",\n",
      "      \"@dmtype\": \"meas:Position\",\n",
      "      \"meas:Position.ucd\": \"pos\",\n",
      "      \"meas:Position.coord\": {\n",
      "        \"@dmtype\": \"coord:LonLatPoint\",\n",
      "        \"REFERENCE_1\": {\n",
      "          \"@dmrole\": \"coords:Coordinate.coordSys\",\n",
      "          \"@dmref\": \"SpaceFrame_ICRS\"\n",
      "        },\n",
      "        \"coord:LonLatPoint.lon\": 253.923544,\n",
      "        \"coord:LonLatPoint.lat\": -42.8271581,\n",
      "        \"coord:LonLatPoint.dist\": null\n",
      "      },\n",
      "      \"meas:Measure.error\": {\n",
      "        \"@dmtype\": \"meas:Ellipse\",\n",
      "        \"meas:Ellipse.semiAxis\": [\n",
      "          {\n",
      "            \"@dmtype\": \"ivoa:RealQuantity\",\n",
      "            \"ivoa:Quantity.val\": 21.157,\n",
      "            \"ivoa:Quantity.unit\": \"arcsec\"\n",
      "          },\n",
      "          {\n",
      "            \"@dmtype\": \"ivoa:RealQuantity\",\n",
      "            \"ivoa:Quantity.val\": 13.738,\n",
      "            \"ivoa:Quantity.unit\": \"arcsec\"\n",
      "          }\n",
      "        ],\n",
      "        \"meas:Ellipse.posAngle\": {\n",
      "          \"@dmtype\": \"ivoa:RealQuantity\",\n",
      "          \"ivoa:Quantity.val\": 61.84,\n",
      "          \"ivoa:Quantity.unit\": \"deg\"\n",
      "        }\n",
      "      }\n",
      "    },\n",
      "    {\n",
      "      \"@dmrole\": \"\",\n",
      "      \"@dmtype\": \"meas:Position\",\n",
      "      \"meas:Position.ucd\": \"pos\",\n",
      "      \"meas:Position.coord\": {\n",
      "        \"@dmtype\": \"coord:LonLatPoint\",\n",
      "        \"REFERENCE_2\": {\n",
      "          \"@dmrole\": \"coords:Coordinate.coordSys\",\n",
      "          \"@dmref\": \"SpaceFrame_Galactic\"\n",
      "        },\n",
      "        \"coord:LonLatPoint.lon\": 0.33436,\n",
      "        \"coord:LonLatPoint.lat\": 342.863,\n",
      "        \"coord:LonLatPoint.dist\": null\n",
      "      },\n",
      "      \"meas:Measure.error\": {\n",
      "        \"@dmtype\": \"meas:Ellipse\",\n",
      "        \"meas:Ellipse.semiAxis\": [\n",
      "          {\n",
      "            \"@dmtype\": \"ivoa:RealQuantity\",\n",
      "            \"ivoa:Quantity.val\": 21.157,\n",
      "            \"ivoa:Quantity.unit\": \"arcsec\"\n",
      "          },\n",
      "          {\n",
      "            \"@dmtype\": \"ivoa:RealQuantity\",\n",
      "            \"ivoa:Quantity.val\": 13.738,\n",
      "            \"ivoa:Quantity.unit\": \"arcsec\"\n",
      "          }\n",
      "        ],\n",
      "        \"meas:Ellipse.posAngle \": {\n",
      "          \"@dmtype\": \"ivoa:RealQuantity\",\n",
      "          \"ivoa:Quantity.val\": 61.84,\n",
      "          \"ivoa:Quantity.unit\": \"deg\"\n",
      "        }\n",
      "      }\n",
      "    }\n",
      "  ]\n",
      "]\n"
     ]
    }
   ],
   "source": [
    "DictUtils.print_pretty_json(mviewer.get_json_model_view(resolve_ref=False))"
   ]
  },
  {
   "cell_type": "code",
   "execution_count": 13,
   "id": "615342f4",
   "metadata": {},
   "outputs": [
    {
     "name": "stdout",
     "output_type": "stream",
     "text": [
      "  DEBUG - [model_viewer.py:228 - get_json_model_view()] - build json view\n",
      "[\n",
      "  {\n",
      "    \"@dmid\": \"SpaceFrame_ICRS\",\n",
      "    \"@dmtype\": \"coords:SpaceFrame\",\n",
      "    \"coords:SpaceFrame.spaceRefFrame\": \"ICRS\",\n",
      "    \"coords:SpaceFrame.equinox\": \"NoSet\",\n",
      "    \"coords:SpaceFrame.refPosition\": {\n",
      "      \"@dmtype\": \"coords:StdRefLocation\",\n",
      "      \"coords:StdRefLocation.position\": \"NoSet\"\n",
      "    }\n",
      "  },\n",
      "  {\n",
      "    \"@dmid\": \"SpaceFrame_Galactic\",\n",
      "    \"@dmtype\": \"coords:SpaceFrame\",\n",
      "    \"coords:SpaceFrame.spaceRefFrame\": \"Galactic\",\n",
      "    \"coords:SpaceFrame.equinox\": \"NoSet\",\n",
      "    \"coords:SpaceFrame.refPosition\": {\n",
      "      \"@dmtype\": \"coords:StdRefLocation\",\n",
      "      \"coords:StdRefLocation.position\": \"NoSet\"\n",
      "    }\n",
      "  }\n",
      "]\n"
     ]
    }
   ],
   "source": [
    "DictUtils.print_pretty_json(mviewer.get_json_model_component_by_type(\"coords:SpaceFrame\"))"
   ]
  },
  {
   "cell_type": "code",
   "execution_count": null,
   "id": "b0afd368",
   "metadata": {},
   "outputs": [],
   "source": []
  }
 ],
 "metadata": {
  "kernelspec": {
   "display_name": "Python 3 (ipykernel)",
   "language": "python",
   "name": "python3"
  },
  "language_info": {
   "codemirror_mode": {
    "name": "ipython",
    "version": 3
   },
   "file_extension": ".py",
   "mimetype": "text/x-python",
   "name": "python",
   "nbconvert_exporter": "python",
   "pygments_lexer": "ipython3",
   "version": "3.8.8"
  }
 },
 "nbformat": 4,
 "nbformat_minor": 5
}
