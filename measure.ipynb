{
 "cells": [
  {
   "cell_type": "markdown",
   "id": "fbbf5d49",
   "metadata": {},
   "source": [
    "## Model Viewer Demo\n",
    "\n",
    "This goal of this Notebook is to show that we can use the model annotation to easoly read a source position in 2 different frames.\n",
    "\n",
    "We proceed with data mapped on individual Measure (Posistion in facty) objects in order to avoid bias possibly introduced by some host model.\n",
    "\n",
    "This workflow validates the [Measure](https://github.com/ivoa/modelinstanceinvot-code) model (and its coordinates(https://github.com/ivoa-std/CoordinateDM)) in the extand of the the implemented classes.\n",
    "\n",
    "### Test Case\n",
    "\n",
    "The VOtable has been queried from Vizier (IX/57 Chandra catalogue V2):\n",
    "We have 10 sources with 2 positions (ICRS and Gal), all with an ellipic error.\n",
    "\n",
    "- We are using the annotation [syntax](https://github.com/ivoa-std/ModelInstanceInVot) that has been designed after the 2021 workshop.\n",
    "- The Python code used for this notebook is being [developped](https://github.com/ivoa/modelinstanceinvot-code) to design qnd validate the processing of model annotation.\n"
   ]
  },
  {
   "cell_type": "markdown",
   "id": "affcfeb1",
   "metadata": {},
   "source": [
    "### Package Init\n",
    "- Import packages\n",
    "- Set the data directory\n",
    "- Print to check"
   ]
  },
  {
   "cell_type": "code",
   "execution_count": 1,
   "id": "ec83cbae",
   "metadata": {},
   "outputs": [],
   "source": [
    "import os, sys\n",
    "import xmltodict\n",
    "import lxml\n",
    "from astropy.io.votable import parse\n",
    "\n",
    "base_dir = os.getcwd()\n",
    "sys.path.append(os.path.join(base_dir, \"python\") )\n",
    "data_dir = os.path.join(base_dir, \"python\", \"tests\", \"data\", \"annotated_data\") \n",
    "\n",
    "from utils.xml_utils import XmlUtils\n",
    "from utils.dict_utils import DictUtils\n",
    "from client.xml_interpreter.model_viewer import ModelViewer\n",
    "\n",
    "print(sys.path)\n",
    "print(base_dir)\n",
    "print(data_dir)\n"
   ]
  },
  {
   "cell_type": "markdown",
   "id": "bed71f6a",
   "metadata": {},
   "source": [
    "## VOTable parsing\n",
    "The VOTable is parsed by Astropy as usual"
   ]
  },
  {
   "cell_type": "code",
   "execution_count": 3,
   "id": "d8796618",
   "metadata": {},
   "outputs": [],
   "source": [
    "votable = parse(os.path.join(data_dir, \"vizier_csc2_gal.annot.xml\"))"
   ]
  },
  {
   "cell_type": "markdown",
   "id": "32f29cc0",
   "metadata": {},
   "source": [
    "## Building the Model Viewer\n",
    "The model viewer wrapps the VOTable data iterator to provide model views of the current data raw\n",
    "The model viewer supports 3 serializations:\n",
    "- XML\n",
    "- JSON \n",
    "- STC components (not used here)\n",
    "\n",
    "In the future, the resource selection should be handled by the either Astropy or PyVO, but meanwhile this is not implemented, the job is done by hand. \n",
    "We assume that the 1st resource is annotated."
   ]
  },
  {
   "cell_type": "code",
   "execution_count": 5,
   "id": "ed5f34ee",
   "metadata": {},
   "outputs": [],
   "source": [
    "for resource in votable.resources:\n",
    "    mviewer = ModelViewer(resource, votable_path=os.path.join(data_dir, \"vizier_csc2_gal.annot.xml\"))\n",
    "    break"
   ]
  },
  {
   "cell_type": "markdown",
   "id": "eeefc6ba",
   "metadata": {},
   "source": [
    "## Connecting the Data table we Want to Browse\n",
    "In this example we just have one table that is annotated. \n",
    "- We assume we will work on data of this table\n",
    "- We do not look for complex objects that could be located in some other tables or in the GLOBALS block "
   ]
  },
  {
   "cell_type": "code",
   "execution_count": 7,
   "id": "3495e19e",
   "metadata": {},
   "outputs": [],
   "source": [
    "mviewer.connect_table('Results')\n"
   ]
  },
  {
   "cell_type": "markdown",
   "id": "f7c77a04",
   "metadata": {},
   "source": [
    "## Print Numpy Row\n",
    "\n",
    "As an evidence we arwe really working with the astropy parser."
   ]
  },
  {
   "cell_type": "code",
   "execution_count": 8,
   "id": "f5e76b6e",
   "metadata": {},
   "outputs": [],
   "source": [
    "print(mviewer.get_next_row() )"
   ]
  },
  {
   "cell_type": "markdown",
   "id": "53787f23",
   "metadata": {},
   "source": [
    "## XML model View\n",
    "\n",
    "We use a (not so good) local utility to print ou the the XML model view of the current row.\n",
    "Notice that the attributes have a @colindex attributes that is no part of the annotation syntax. \n",
    "This is for a debug purpose."
   ]
  },
  {
   "cell_type": "code",
   "execution_count": 14,
   "id": "22400a73",
   "metadata": {},
   "outputs": [],
   "source": [
    "XmlUtils.pretty_print(mviewer.get_model_view(resolve_ref=True))\n"
   ]
  },
  {
   "cell_type": "markdown",
   "id": "3bf874b4",
   "metadata": {},
   "source": [
    "### JSON Model View \n",
    "\n",
    "We use a (pretty good) local utility to print ou the the JSON model view of the current row. \n",
    "Notice that the JSON should be cleanup. This is not done for a debug purpose."
   ]
  },
  {
   "cell_type": "code",
   "execution_count": 11,
   "id": "a7aa893c",
   "metadata": {},
   "outputs": [],
   "source": [
    "DictUtils.print_pretty_json(mviewer.get_json_model_view(resolve_ref=False))"
   ]
  },
  {
   "cell_type": "markdown",
   "id": "3006aecb",
   "metadata": {},
   "source": [
    "## Retrieving the Space Frames\n",
    "\n",
    "This simple functions returns the list of all space frames present in the annotation block by using a model dmtyp selector."
   ]
  },
  {
   "cell_type": "code",
   "execution_count": 13,
   "id": "d3e2df72",
   "metadata": {},
   "outputs": [],
   "source": [
    "DictUtils.print_pretty_json(mviewer.get_json_model_component_by_type(\"coords:SpaceFrame\"))"
   ]
  },
  {
   "cell_type": "code",
   "execution_count": null,
   "id": "97f285ea",
   "metadata": {},
   "outputs": [],
   "source": []
  }
 ],
 "metadata": {
  "kernelspec": {
   "display_name": "Python 3 (ipykernel)",
   "language": "python",
   "name": "python3"
  },
  "language_info": {
   "codemirror_mode": {
    "name": "ipython",
    "version": 3
   },
   "file_extension": ".py",
   "mimetype": "text/x-python",
   "name": "python",
   "nbconvert_exporter": "python",
   "pygments_lexer": "ipython3",
   "version": "3.8.8"
  }
 },
 "nbformat": 4,
 "nbformat_minor": 5
}
