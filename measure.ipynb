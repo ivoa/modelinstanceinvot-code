{
 "cells": [
  {
   "cell_type": "code",
   "execution_count": 1,
   "id": "ec83cbae",
   "metadata": {},
   "outputs": [
   ],
   "source": [
    "import os, sys\n",
    "import xmltodict\n",
    "import lxml\n",
    "from astropy.io.votable import parse\n",
    "\n",
    "base_dir = os.getcwd()\n",
    "sys.path.append(os.path.join(base_dir, \"python\") )\n",
    "data_dir = os.path.join(base_dir, \"python\", \"tests\", \"data\", \"annotated_data\") \n",
    "\n",
    "from utils.xml_utils import XmlUtils\n",
    "from utils.dict_utils import DictUtils\n",
    "from client.xml_interpreter.model_viewer import ModelViewer\n",
    "\n",
    "print(sys.path)\n",
    "print(base_dir)\n",
    "print(data_dir)\n"
   ]
  },
  {
   "cell_type": "code",
   "execution_count": 3,
   "id": "d8796618",
   "metadata": {},
   "outputs": [],
   "source": [
    "votable = parse(os.path.join(data_dir, \"vizier_csc2_gal.annot.xml\"))"
   ]
  },
  {
   "cell_type": "code",
   "execution_count": 5,
   "id": "ed5f34ee",
   "metadata": {},
   "outputs": [
   ],
   "source": [
    "for resource in votable.resources:\n",
    "    mviewer = ModelViewer(resource, votable_path=os.path.join(data_dir, \"vizier_csc2_gal.annot.xml\"))\n",
    "    break"
   ]
  },
  {
   "cell_type": "code",
   "execution_count": 7,
   "id": "3495e19e",
   "metadata": {},
   "outputs": [
   ],
   "source": [
    "mviewer.connect_table('Results')\n"
   ]
  },
  {
   "cell_type": "code",
   "execution_count": 8,
   "id": "f5e76b6e",
   "metadata": {},
   "outputs": [
   ],
   "source": [
    "print(mviewer.get_next_row() )"
   ]
  },
  {
   "cell_type": "code",
   "execution_count": 14,
   "id": "22400a73",
   "metadata": {},
   "outputs": [
   ],
   "source": [
    "XmlUtils.pretty_print(mviewer.get_model_view(resolve_ref=True))\n"
   ]
  },
  {
   "cell_type": "code",
   "execution_count": 11,
   "id": "a7aa893c",
   "metadata": {},
   "outputs": [
   ],
   "source": [
    "DictUtils.print_pretty_json(mviewer.get_json_model_view(resolve_ref=False))"
   ]
  },
  {
   "cell_type": "code",
   "execution_count": 13,
   "id": "d3e2df72",
   "metadata": {},
   "outputs": [
   ],
   "source": [
    "DictUtils.print_pretty_json(mviewer.get_json_model_component_by_type(\"coords:SpaceFrame\"))"
   ]
  },
  {
   "cell_type": "code",
   "execution_count": null,
   "id": "97f285ea",
   "metadata": {},
   "outputs": [],
   "source": []
  }
 ],
 "metadata": {
  "kernelspec": {
   "display_name": "Python 3 (ipykernel)",
   "language": "python",
   "name": "python3"
  },
  "language_info": {
   "codemirror_mode": {
    "name": "ipython",
    "version": 3
   },
   "file_extension": ".py",
   "mimetype": "text/x-python",
   "name": "python",
   "nbconvert_exporter": "python",
   "pygments_lexer": "ipython3",
   "version": "3.8.8"
  }
 },
 "nbformat": 4,
 "nbformat_minor": 5
}
