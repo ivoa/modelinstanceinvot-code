{
 "cells": [
  {
   "cell_type": "markdown",
   "id": "33a7a265",
   "metadata": {},
   "source": [
    "## Meas/Coords Validation\n",
    "\n",
    "This goal of this Notebook is to show that real data can be mapped on Measure classes and that the Measure object quantities can be retrieved by generice code.\n",
    "\n",
    "We proceed with data mapped on individual Measure objects in order to avoid bias possibly introduced by some host model.\n",
    "\n",
    "This workflow validates the [Measure](https://github.com/ivoa/modelinstanceinvot-code) model (and its coordinates(https://github.com/ivoa-std/CoordinateDM)) in the extand of the the implemented classes.\n",
    "\n",
    "### Test Case\n",
    "\n",
    "The VOtable has been queried from tme ESAC XMM TAP archive with the following query:\n",
    "```\n",
    "SELECT TOP 10 xsa.v_epic_source_cat.date_obs , xsa.v_epic_source_cat.\"dec\" , xsa.v_epic_source_cat.ep_hr1 , xsa.v_epic_source_cat.ep_hr1_err , xsa.v_epic_source_cat.ep_hr2 , xsa.v_epic_source_cat.ep_hr2_err , xsa.v_epic_source_cat.ep_hr3 , xsa.v_epic_source_cat.ep_hr3_err , xsa.v_epic_source_cat.ep_hr4 , xsa.v_epic_source_cat.ep_hr4_err , xsa.v_epic_source_cat.iauname , xsa.v_epic_source_cat.ra\n",
    " FROM  xsa.v_epic_source_cat\n",
    " WHERE ( xsa.v_epic_source_cat.iauname = '4XMM J174544.4-290024' )\n",
    "```\n",
    "\n",
    "We select the positions and the observation dates of the '4XMM J174544.4-290024' source as well as its hardness ratios. \n",
    "This source is located near the galactic center, so we can expect these parameters to vary along of the observations covering 20 years.\n",
    "\n",
    "- We are using the annotation [syntax](https://github.com/ivoa-std/ModelInstanceInVot) that has been designed after the 2021 workshop.\n",
    "- The Python code used for this notebook is being [developped](https://github.com/ivoa/modelinstanceinvot-code) to design qnd validate the processing of model annotation.\n"
   ]
  },
  {
   "cell_type": "markdown",
   "id": "44885d1c",
   "metadata": {},
   "source": [
    "### Package Init\n",
    "- Import packages\n",
    "- Set the data directory\n",
    "- Print to check"
   ]
  },
  {
   "cell_type": "code",
   "execution_count": null,
   "id": "ec83cbae",
   "metadata": {},
   "outputs": [],
   "source": [
    "import sys\n",
    "import unittest\n",
    "import os\n",
    "import logging\n",
    "import matplotlib\n",
    "import mplcursors\n",
    "import matplotlib.pyplot as plt \n",
    "import numpy as np\n",
    "from astropy.io.votable import parse\n",
    "\n",
    "base_dir = os.getcwd()\n",
    "sys.path.append(os.path.join(base_dir, \"python\") )\n",
    "data_dir = os.path.join(base_dir, \"python\", \"tests\", \"data\", \"annotated_data\") \n",
    "\n",
    "from client.xml_interpreter.model_viewer import ModelViewer\n",
    "\n",
    "\n",
    "print(sys.path)\n",
    "print(base_dir)\n",
    "print(data_dir)\n"
   ]
  },
  {
   "cell_type": "markdown",
   "id": "f53d2a67",
   "metadata": {},
   "source": [
    "## VOTable parsing\n",
    "The VOTable is parsed by Astropy as usual"
   ]
  },
  {
   "cell_type": "code",
   "execution_count": null,
   "id": "d8796618",
   "metadata": {},
   "outputs": [],
   "source": [
    "votable = parse(os.path.join(data_dir, \"xmm_move_hr.xml\"))"
   ]
  },
  {
   "cell_type": "markdown",
   "id": "429f1cfd",
   "metadata": {},
   "source": [
    "## Building the Model Viewer\n",
    "The model viewer wrapps the VOTable data iterator to provide model views of the current data raw\n",
    "The model viewer supports 3 serializations:\n",
    "- XML\n",
    "- JSON \n",
    "- STC components (used here)\n",
    "\n",
    "In the future, the resource selection should be handled by the either Astropy or PyVO, but meanwhile this is not implemented, the job is done by hand. \n",
    "We assume that the 1st resource is annotated."
   ]
  },
  {
   "cell_type": "code",
   "execution_count": null,
   "id": "ed5f34ee",
   "metadata": {},
   "outputs": [],
   "source": [
    "for resource in votable.resources:\n",
    "    mviewer = ModelViewer(resource, votable_path=os.path.join(data_dir, \"xmm_move_hr.xml\"))\n",
    "    break"
   ]
  },
  {
   "cell_type": "markdown",
   "id": "2630aa12",
   "metadata": {},
   "source": [
    "## Connecting the Data table we Want to Browse\n",
    "In this example we just have one table that is annotated. \n",
    "- We assume we will work on data of this table\n",
    "- We do not look for complex objects that could be located in some other tables or in the GLOBALS block "
   ]
  },
  {
   "cell_type": "code",
   "execution_count": null,
   "id": "3495e19e",
   "metadata": {},
   "outputs": [],
   "source": [
    "mviewer.connect_table('Results')\n"
   ]
  },
  {
   "cell_type": "markdown",
   "id": "ae3fcfd4",
   "metadata": {},
   "source": [
    "## Using Data Model Views\n",
    "The model viewer iterate over the data row by using the Astropy parser. The last read row is stored internally to get available to be processed by the viewer.\n",
    "\n",
    "In the current the example, we know that each data rows contains one position, one time stamp and 4 hardness ratios. The viewer provides tools to discover these quantities, but  this is not the purpose of the exercise. \n",
    "\n",
    "For each row, we extract Measures instances of those quantities and we store them in Python lists ready to be displayed by matplotlib.\n",
    "\n",
    "The point here is that the code just processes data annotations. It has no feature specific for that VOTable."
   ]
  },
  {
   "cell_type": "code",
   "execution_count": null,
   "id": "f5e76b6e",
   "metadata": {},
   "outputs": [],
   "source": [
    "times = []\n",
    "ras = []\n",
    "decs = []\n",
    "mviewer.rewind()\n",
    "while True:\n",
    "    row = mviewer.get_next_row() \n",
    "    if row is None:\n",
    "        break  \n",
    "            \n",
    "    position = mviewer.get_stc_positions()[0]\n",
    "    ras.append(position.coord.lon.value)    \n",
    "    decs.append(position.coord.lat.value)   \n",
    "            \n",
    "    hr = mviewer.get_stc_generic_measures()\n",
    "\n",
    "    times.append(f\"Obs time: {mviewer.get_stc_times()[0].coord.datetime}\"\\\n",
    "                f\"\\nra:{position.coord.lon.value}\"\\\n",
    "                f\"\\ndec: {position.coord.lat.value}\"\n",
    "                f\"\\nhr1: {hr[0].coord.cval} +/- {hr[0].error.radius}\"\\\n",
    "                f\"\\nhr2: {hr[1].coord.cval} +/- {hr[1].error.radius}\"\\\n",
    "                f\"\\nhr3: {hr[2].coord.cval} +/- {hr[2].error.radius}\"\\\n",
    "                f\"\\nhr4: {hr[3].coord.cval} +/- {hr[3].error.radius}\"\n",
    "                ) "
   ]
  },
  {
   "cell_type": "markdown",
   "id": "0de60086",
   "metadata": {},
   "source": [
    "## Data Normalization\n",
    "\n",
    "The data contains 10 position of one XMM source taken over 20 year. To make the plot more readable, we transform the positions as deltas from the mean value."
   ]
  },
  {
   "cell_type": "code",
   "execution_count": null,
   "id": "22400a73",
   "metadata": {},
   "outputs": [],
   "source": [
    "ram = 0.0\n",
    "for ra in ras:\n",
    "    ram += ra\n",
    "ram /= len(ras)\n",
    "decm = 0.0\n",
    "for dec in decs:\n",
    "    decm += dec\n",
    "decm /= len(decs)\n",
    "for i in range(len(ras)):\n",
    "    ras[i] = 3600*(ras[i] - ram)\n",
    "    decs[i] = 3600*(decs[i] - decm)\n"
   ]
  },
  {
   "cell_type": "markdown",
   "id": "55ff715e",
   "metadata": {},
   "source": [
    "## Matplotlib setup\n",
    "\n",
    "Since we have a 7 dimensions dataset (position, time and 4 HRs), we use tooltips to represent it in a convinient way.\n",
    "Matplotlib must be setup accordingly"
   ]
  },
  {
   "cell_type": "code",
   "execution_count": null,
   "id": "0178deed",
   "metadata": {},
   "outputs": [],
   "source": [
    "%matplotlib widget"
   ]
  },
  {
   "cell_type": "markdown",
   "id": "4ca378c6",
   "metadata": {},
   "source": [
    "## Lets plot"
   ]
  },
  {
   "cell_type": "code",
   "execution_count": null,
   "id": "a7aa893c",
   "metadata": {},
   "outputs": [],
   "source": [
    "matplotlib.font_manager: logging.getLogger('matplotlib.font_manager').setLevel(logging.WARNING)\n",
    "plt.scatter(ras, decs)\n",
    "plt.title(\"4XMM J174544.4-290024 over 20 years\")\n",
    "plt.xlabel(\"delta RA arcsec\")\n",
    "plt.ylabel(\"delta DEC arcsec\")\n",
    "mplcursors.cursor(hover=True).connect(\"add\", lambda sel: sel.annotation.set_text(times[sel.index]))\n",
    "        \n",
    "plt.show()"
   ]
  },
  {
   "cell_type": "code",
   "execution_count": null,
   "id": "608c8855",
   "metadata": {},
   "outputs": [],
   "source": []
  }
 ],
 "metadata": {
  "kernelspec": {
   "display_name": "Python 3 (ipykernel)",
   "language": "python",
   "name": "python3"
  },
  "language_info": {
   "codemirror_mode": {
    "name": "ipython",
    "version": 3
   },
   "file_extension": ".py",
   "mimetype": "text/x-python",
   "name": "python",
   "nbconvert_exporter": "python",
   "pygments_lexer": "ipython3",
   "version": "3.8.8"
  }
 },
 "nbformat": 4,
 "nbformat_minor": 5
}
